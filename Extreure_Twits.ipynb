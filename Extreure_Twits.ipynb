{
  "cells": [
    {
      "cell_type": "markdown",
      "metadata": {
        "id": "view-in-github",
        "colab_type": "text"
      },
      "source": [
        "<a href=\"https://colab.research.google.com/github/AlbertRoca29/EconomiaCircular/blob/main/Extreure_Twits.ipynb\" target=\"_parent\"><img src=\"https://colab.research.google.com/assets/colab-badge.svg\" alt=\"Open In Colab\"/></a>"
      ]
    },
    {
      "cell_type": "code",
      "execution_count": null,
      "metadata": {
        "id": "cn8UGyClVoBi"
      },
      "outputs": [],
      "source": [
        "pip install snscrape"
      ]
    },
    {
      "cell_type": "code",
      "execution_count": 2,
      "metadata": {
        "id": "g2y2kMKUnLto"
      },
      "outputs": [],
      "source": [
        "import snscrape.modules.twitter as sntwitter\n",
        "import pandas as pd\n",
        "from google.colab import files\n",
        "from tqdm import tqdm"
      ]
    },
    {
      "cell_type": "code",
      "execution_count": 8,
      "metadata": {
        "id": "_jCt4LQqmjzc"
      },
      "outputs": [],
      "source": [
        "res = ' OR \"ddi6B3qe1Rifdk5\"'\n",
        "\n",
        "Paraules = ['\"Minimització de residus\"',  '\"Producció neta\"' ,\n",
        "            '\"Zero emissions\" OR \"Emissions zero\"',  \n",
        "            '\"Economia verda\"' , '\"Triple balanç\"', '\"Reciclatge\"' ,\n",
        "            \"'Avaluació del Cicle de Vida' OR 'Anàlisi del Cicle de Vida'\",\n",
        "            '\"Consum sostenible\"', \n",
        "            '\"decreixement\" OR \"Creixement zero\" OR \"zero creixement\"', \n",
        "            '\"Responsabilitat Social Corporativa\" OR \"RSC\"',\n",
        "            '\"Responsabilitat Social Universitària\" OR \"RSU\"',\n",
        "            '\"Economia blava\"' , '\"valor compartit\"' , \n",
        "            '\"Ecologia industrial\"' , '\"Economia col·laborativa\"' , '\"Economia circular\"']\n",
        "\n",
        "Comptes = {\n",
        "    'Diaris':\n",
        "        '(from:diariARA OR from:elnacionalcat OR from:VilaWeb OR from:324cat OR from:CatalunyaRadio OR from:rac1)',\n",
        "    'Administracions_Pubiques':\n",
        "        '(from:govern OR from:generalitat OR from:gencat OR from:diba OR from:DiputacioGirona OR from:DiputacioLleida OR from:Dipta_cat)',\n",
        "    'Universitats':\n",
        "        '(from:uabbarcelona OR from:unibarcelona OR from:upfbarcelona OR from:la_upc OR from:univgirona OR from:UdL_info OR from:universitatURV )',\n",
        "    'Patronals':\n",
        "        '(from:pimec OR from:FomentTreball OR from:PatronalCecot)',\n",
        "    'Sindicats':\n",
        "        '(from:ccoocatalunya OR from:ugtcatalunya OR from:cgtcatalunya OR from:LaIntersindical)'   \n",
        "}\n",
        "\n",
        "Data_inici='(since:2008-01-01)' \n",
        "\n",
        "lang = ' lang:ca'"
      ]
    },
    {
      "cell_type": "code",
      "execution_count": null,
      "metadata": {
        "id": "RAV0EVk9V-Wp"
      },
      "outputs": [],
      "source": [
        "tweets = []\n",
        "\n",
        "for compte in Comptes:\n",
        "    for paraula in Paraules:\n",
        "\n",
        "        query= '('+ paraula + res +')' + Comptes[compte] + Data_inici\n",
        "\n",
        "        for tweet in tqdm(sntwitter.TwitterSearchScraper(query).get_items(), desc=paraula):\n",
        "            tweets.append([tweet.date, compte, tweet.content, paraula, tweet.retweetCount, tweet.likeCount])\n",
        "\n",
        "print('\\n\\n DADES DELS ULTIMS {} TWITS COMPLINT LES CONDICIONS'.format(len(tweets)))"
      ]
    },
    {
      "cell_type": "code",
      "source": [
        "T = pd.DataFrame(tweets,columns=['Date','Grup','Tweet','Paraula','Retweets','Likes'])"
      ],
      "metadata": {
        "id": "SU3t2GyQ2P58"
      },
      "execution_count": null,
      "outputs": []
    },
    {
      "cell_type": "code",
      "execution_count": null,
      "metadata": {
        "id": "rrklgHT-Zhl-"
      },
      "outputs": [],
      "source": [
        "ALL_tweets = []\n",
        "for paraula in Paraules:\n",
        "    query= '('+paraula + res +')' + Data_inici +lang\n",
        "    for tweet in tqdm(sntwitter.TwitterSearchScraper(query).get_items(), desc=paraula):\n",
        "        ALL_tweets.append([tweet.date,tweet.user.username,tweet.content,paraula,tweet.coordinates,tweet.retweetCount, tweet.likeCount ])\n",
        "\n",
        "print('\\n\\n DADES DELS ULTIMS {} TWITS COMPLINT LES CONDICIONS'.format(len(ALL_tweets)))"
      ]
    },
    {
      "cell_type": "code",
      "execution_count": null,
      "metadata": {
        "id": "vbBT7VxBmljC"
      },
      "outputs": [],
      "source": [
        "T_All = pd.DataFrame(ALL_tweets,columns=['Date','User','Tweet','Paraula','Coords','Retweets','Likes'])"
      ]
    },
    {
      "cell_type": "code",
      "execution_count": null,
      "metadata": {
        "id": "_HB6KZ2sm1Bw"
      },
      "outputs": [],
      "source": [
        "T['Date'] = T['Date'].dt.tz_localize(None)\n",
        "\n",
        "T.to_excel('Tweets.xlsx') \n",
        "files.download('Tweets.xlsx')"
      ]
    },
    {
      "cell_type": "code",
      "source": [
        "T_All['Date'] = T_All['Date'].dt.tz_localize(None)\n",
        "\n",
        "T_All.to_excel('Tweets_All.xlsx') \n",
        "files.download('Tweets_All.xlsx')"
      ],
      "metadata": {
        "colab": {
          "base_uri": "https://localhost:8080/",
          "height": 34
        },
        "id": "r9eCVvJTj4pt",
        "outputId": "f68c7864-ac92-488c-ea1b-15bac6c8c730"
      },
      "execution_count": null,
      "outputs": [
        {
          "output_type": "display_data",
          "data": {
            "text/plain": [
              "<IPython.core.display.Javascript object>"
            ],
            "application/javascript": [
              "\n",
              "    async function download(id, filename, size) {\n",
              "      if (!google.colab.kernel.accessAllowed) {\n",
              "        return;\n",
              "      }\n",
              "      const div = document.createElement('div');\n",
              "      const label = document.createElement('label');\n",
              "      label.textContent = `Downloading \"${filename}\": `;\n",
              "      div.appendChild(label);\n",
              "      const progress = document.createElement('progress');\n",
              "      progress.max = size;\n",
              "      div.appendChild(progress);\n",
              "      document.body.appendChild(div);\n",
              "\n",
              "      const buffers = [];\n",
              "      let downloaded = 0;\n",
              "\n",
              "      const channel = await google.colab.kernel.comms.open(id);\n",
              "      // Send a message to notify the kernel that we're ready.\n",
              "      channel.send({})\n",
              "\n",
              "      for await (const message of channel.messages) {\n",
              "        // Send a message to notify the kernel that we're ready.\n",
              "        channel.send({})\n",
              "        if (message.buffers) {\n",
              "          for (const buffer of message.buffers) {\n",
              "            buffers.push(buffer);\n",
              "            downloaded += buffer.byteLength;\n",
              "            progress.value = downloaded;\n",
              "          }\n",
              "        }\n",
              "      }\n",
              "      const blob = new Blob(buffers, {type: 'application/binary'});\n",
              "      const a = document.createElement('a');\n",
              "      a.href = window.URL.createObjectURL(blob);\n",
              "      a.download = filename;\n",
              "      div.appendChild(a);\n",
              "      a.click();\n",
              "      div.remove();\n",
              "    }\n",
              "  "
            ]
          },
          "metadata": {}
        },
        {
          "output_type": "display_data",
          "data": {
            "text/plain": [
              "<IPython.core.display.Javascript object>"
            ],
            "application/javascript": [
              "download(\"download_03eb947c-e6dd-4485-8068-df1d102d6786\", \"Tweets_All.xlsx\", 18471098)"
            ]
          },
          "metadata": {}
        }
      ]
    },
    {
      "cell_type": "markdown",
      "metadata": {
        "id": "AqrpBDirn7Qw"
      },
      "source": [
        "Pujaré aquests documents al repositori github següent:\n",
        "\n",
        "https://github.com/AlbertRoca29/EconomiaCircular"
      ]
    }
  ],
  "metadata": {
    "accelerator": "GPU",
    "colab": {
      "provenance": [],
      "authorship_tag": "ABX9TyM20EfvDvSIX+FlATeGmPfA",
      "include_colab_link": true
    },
    "gpuClass": "standard",
    "kernelspec": {
      "display_name": "Python 3",
      "name": "python3"
    },
    "language_info": {
      "name": "python"
    }
  },
  "nbformat": 4,
  "nbformat_minor": 0
}