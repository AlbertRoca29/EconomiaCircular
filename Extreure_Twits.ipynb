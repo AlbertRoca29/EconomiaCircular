{
  "cells": [
    {
      "cell_type": "code",
      "execution_count": 1,
      "metadata": {
        "colab": {
          "base_uri": "https://localhost:8080/"
        },
        "id": "cn8UGyClVoBi",
        "outputId": "28ce697a-5959-4ddd-dd5c-a691b9a3a63e"
      },
      "outputs": [
        {
          "output_type": "stream",
          "name": "stdout",
          "text": [
            "Looking in indexes: https://pypi.org/simple, https://us-python.pkg.dev/colab-wheels/public/simple/\n",
            "Collecting snscrape\n",
            "  Downloading snscrape-0.6.2.20230320-py3-none-any.whl (71 kB)\n",
            "\u001b[2K     \u001b[90m━━━━━━━━━━━━━━━━━━━━━━━━━━━━━━━━━━━━━━━━\u001b[0m \u001b[32m71.8/71.8 KB\u001b[0m \u001b[31m1.6 MB/s\u001b[0m eta \u001b[36m0:00:00\u001b[0m\n",
            "\u001b[?25hRequirement already satisfied: filelock in /usr/local/lib/python3.9/dist-packages (from snscrape) (3.10.0)\n",
            "Requirement already satisfied: beautifulsoup4 in /usr/local/lib/python3.9/dist-packages (from snscrape) (4.11.2)\n",
            "Requirement already satisfied: lxml in /usr/local/lib/python3.9/dist-packages (from snscrape) (4.9.2)\n",
            "Requirement already satisfied: requests[socks] in /usr/local/lib/python3.9/dist-packages (from snscrape) (2.27.1)\n",
            "Requirement already satisfied: soupsieve>1.2 in /usr/local/lib/python3.9/dist-packages (from beautifulsoup4->snscrape) (2.4)\n",
            "Requirement already satisfied: certifi>=2017.4.17 in /usr/local/lib/python3.9/dist-packages (from requests[socks]->snscrape) (2022.12.7)\n",
            "Requirement already satisfied: charset-normalizer~=2.0.0 in /usr/local/lib/python3.9/dist-packages (from requests[socks]->snscrape) (2.0.12)\n",
            "Requirement already satisfied: urllib3<1.27,>=1.21.1 in /usr/local/lib/python3.9/dist-packages (from requests[socks]->snscrape) (1.26.15)\n",
            "Requirement already satisfied: idna<4,>=2.5 in /usr/local/lib/python3.9/dist-packages (from requests[socks]->snscrape) (3.4)\n",
            "Requirement already satisfied: PySocks!=1.5.7,>=1.5.6 in /usr/local/lib/python3.9/dist-packages (from requests[socks]->snscrape) (1.7.1)\n",
            "Installing collected packages: snscrape\n",
            "Successfully installed snscrape-0.6.2.20230320\n"
          ]
        }
      ],
      "source": [
        "!pip install snscrape"
      ]
    },
    {
      "cell_type": "code",
      "execution_count": 2,
      "metadata": {
        "id": "g2y2kMKUnLto"
      },
      "outputs": [],
      "source": [
        "import snscrape.modules.twitter as sntwitter\n",
        "import pandas as pd\n",
        "from google.colab import files"
      ]
    },
    {
      "cell_type": "code",
      "execution_count": 3,
      "metadata": {
        "id": "_jCt4LQqmjzc"
      },
      "outputs": [],
      "source": [
        "Paraules = [ \"Minimització de residus\",  \"Producció neta\" ,\"Zero emissions\" ,  \n",
        "           \"Economia verda\" , \"Triple balanç\", \"Reciclatge\" ,\n",
        "           \"'Avaluació del Cicle de Vida' OR 'Anàlisi del Cicle de Vida'\",\n",
        "           '\"Consum sostenible\" OR \"consum que és sostenible\"', \n",
        "           '\"decreixement\" OR \"Creixement zero\" OR \"zero creixement\"', \n",
        "           \"Responsabilitat Social Corporativa\",\n",
        "           \"Economia blava\" , \"Creació de valor compartit\" , \n",
        "           \"Ecologia industrial\" , \"Economia col·laborativa\" , \"Economia circular\"]\n",
        "\n",
        "Comptes = {\n",
        "    'Diaris':\n",
        "        '(from:diariARA OR from:elnacionalcat OR from:VilaWeb OR from:324cat OR from:CatalunyaRadio OR from:rac1)',\n",
        "    'Administracions_Pubiques':\n",
        "        '(from:govern OR from:generalitat OR from:gencat OR from:diba OR from:DiputacioGirona OR from:DiputacioLleida OR from:Dipta_cat)',\n",
        "    'Universitats':\n",
        "        '(from:uabbarcelona OR from:unibarcelona OR from:upfbarcelona OR from:la_upc OR from:univgirona OR from:UdL_info OR from:universitatURV )',\n",
        "    'Patronals':\n",
        "        '(from:pimec OR from:FomentTreball OR from:PatronalCecot)',\n",
        "    'Sindicats':\n",
        "        '(from:ccoocatalunya OR from:ugtcatalunya OR from:cgtcatalunya OR from:LaIntersindical)'   \n",
        "}\n",
        "\n",
        "Data_inici='(since:2006-01-01)' "
      ]
    },
    {
      "cell_type": "code",
      "execution_count": 8,
      "metadata": {
        "colab": {
          "base_uri": "https://localhost:8080/"
        },
        "id": "RAV0EVk9V-Wp",
        "outputId": "32dc384f-a7c6-41a1-a9aa-b9cbdba9b20d"
      },
      "outputs": [
        {
          "output_type": "stream",
          "name": "stderr",
          "text": [
            "<ipython-input-8-9d3afb371d0b>:12: DeprecatedFeatureWarning: content is deprecated, use rawContent instead\n",
            "  tweets.append([tweet.date, compte, tweet.content, paraula, tweet.retweetCount, tweet.likeCount])\n"
          ]
        },
        {
          "output_type": "stream",
          "name": "stdout",
          "text": [
            "\n",
            "\n",
            " DADES DELS ULTIMS 1135 TWITS COMPLINT LES CONDICIONS\n"
          ]
        }
      ],
      "source": [
        "tweets = []\n",
        "\n",
        "for compte in Comptes:\n",
        "    for paraula in Paraules:\n",
        "\n",
        "        if(paraula==\"Responsabilitat Social Corporativa\"):\n",
        "            paraula = '\"Responsabilitat Social Corporativa\" OR \"RSC'\n",
        "\n",
        "        query= '('+paraula+')' + Comptes[compte] + Data_inici\n",
        "\n",
        "        for tweet in sntwitter.TwitterSearchScraper(query).get_items():\n",
        "            tweets.append([tweet.date, compte, tweet.content, paraula, tweet.retweetCount, tweet.likeCount])\n",
        "\n",
        "print('\\n\\n DADES DELS ULTIMS {} TWITS COMPLINT LES CONDICIONS'.format(len(tweets)))"
      ]
    },
    {
      "cell_type": "code",
      "source": [
        "T = pd.DataFrame(tweets,columns=['Date','Grup','Tweet','Paraula','Retweets','Likes'])"
      ],
      "metadata": {
        "id": "SU3t2GyQ2P58"
      },
      "execution_count": 9,
      "outputs": []
    },
    {
      "cell_type": "code",
      "source": [
        "T.head(10)"
      ],
      "metadata": {
        "colab": {
          "base_uri": "https://localhost:8080/",
          "height": 581
        },
        "id": "O2YMjHuz3_Yj",
        "outputId": "1a83292c-50f6-4ccf-b0d5-cc16de022c5a"
      },
      "execution_count": 10,
      "outputs": [
        {
          "output_type": "execute_result",
          "data": {
            "text/plain": [
              "                       Date    Grup  \\\n",
              "0 2022-12-13 10:26:23+00:00  Diaris   \n",
              "1 2022-12-13 04:42:13+00:00  Diaris   \n",
              "2 2022-12-12 21:59:47+00:00  Diaris   \n",
              "3 2022-12-22 20:49:44+00:00  Diaris   \n",
              "4 2022-11-17 19:07:48+00:00  Diaris   \n",
              "5 2022-11-17 13:57:34+00:00  Diaris   \n",
              "6 2022-11-17 10:03:59+00:00  Diaris   \n",
              "7 2022-11-17 06:32:32+00:00  Diaris   \n",
              "8 2022-10-28 10:30:01+00:00  Diaris   \n",
              "9 2022-09-09 03:30:30+00:00  Diaris   \n",
              "\n",
              "                                               Tweet         Paraula  \\\n",
              "0  🔎 Científics aconsegueixen per primera vegada ...  Producció neta   \n",
              "1  🔎 Científics aconsegueixen per primera vegada ...  Producció neta   \n",
              "2  🔎 Científics aconsegueixen per primera vegada ...  Producció neta   \n",
              "3  La meitat dels espanyols creu que la tecnologi...  Zero emissions   \n",
              "4  🔌 Espanya se suma a la coalició 'Accelerating ...  Zero emissions   \n",
              "5  🔌 Espanya se suma a la coalició 'Accelerating ...  Zero emissions   \n",
              "6  🔌 Espanya se suma a la coalició 'Accelerating ...  Zero emissions   \n",
              "7  Espanya se suma a la coalició 'Accelerating to...  Zero emissions   \n",
              "8  La indústria europea d'automòbils insta els re...  Zero emissions   \n",
              "9  L'empresa especialitzada en mobles, reformes i...  Zero emissions   \n",
              "\n",
              "   Retweets  Likes  \n",
              "0         4      8  \n",
              "1        15     21  \n",
              "2         0      1  \n",
              "3         0      0  \n",
              "4         0      0  \n",
              "5         1      1  \n",
              "6         0      2  \n",
              "7         0      2  \n",
              "8         1      2  \n",
              "9         0      0  "
            ],
            "text/html": [
              "\n",
              "  <div id=\"df-13919d18-e570-4dc1-930a-e862c074fa73\">\n",
              "    <div class=\"colab-df-container\">\n",
              "      <div>\n",
              "<style scoped>\n",
              "    .dataframe tbody tr th:only-of-type {\n",
              "        vertical-align: middle;\n",
              "    }\n",
              "\n",
              "    .dataframe tbody tr th {\n",
              "        vertical-align: top;\n",
              "    }\n",
              "\n",
              "    .dataframe thead th {\n",
              "        text-align: right;\n",
              "    }\n",
              "</style>\n",
              "<table border=\"1\" class=\"dataframe\">\n",
              "  <thead>\n",
              "    <tr style=\"text-align: right;\">\n",
              "      <th></th>\n",
              "      <th>Date</th>\n",
              "      <th>Grup</th>\n",
              "      <th>Tweet</th>\n",
              "      <th>Paraula</th>\n",
              "      <th>Retweets</th>\n",
              "      <th>Likes</th>\n",
              "    </tr>\n",
              "  </thead>\n",
              "  <tbody>\n",
              "    <tr>\n",
              "      <th>0</th>\n",
              "      <td>2022-12-13 10:26:23+00:00</td>\n",
              "      <td>Diaris</td>\n",
              "      <td>🔎 Científics aconsegueixen per primera vegada ...</td>\n",
              "      <td>Producció neta</td>\n",
              "      <td>4</td>\n",
              "      <td>8</td>\n",
              "    </tr>\n",
              "    <tr>\n",
              "      <th>1</th>\n",
              "      <td>2022-12-13 04:42:13+00:00</td>\n",
              "      <td>Diaris</td>\n",
              "      <td>🔎 Científics aconsegueixen per primera vegada ...</td>\n",
              "      <td>Producció neta</td>\n",
              "      <td>15</td>\n",
              "      <td>21</td>\n",
              "    </tr>\n",
              "    <tr>\n",
              "      <th>2</th>\n",
              "      <td>2022-12-12 21:59:47+00:00</td>\n",
              "      <td>Diaris</td>\n",
              "      <td>🔎 Científics aconsegueixen per primera vegada ...</td>\n",
              "      <td>Producció neta</td>\n",
              "      <td>0</td>\n",
              "      <td>1</td>\n",
              "    </tr>\n",
              "    <tr>\n",
              "      <th>3</th>\n",
              "      <td>2022-12-22 20:49:44+00:00</td>\n",
              "      <td>Diaris</td>\n",
              "      <td>La meitat dels espanyols creu que la tecnologi...</td>\n",
              "      <td>Zero emissions</td>\n",
              "      <td>0</td>\n",
              "      <td>0</td>\n",
              "    </tr>\n",
              "    <tr>\n",
              "      <th>4</th>\n",
              "      <td>2022-11-17 19:07:48+00:00</td>\n",
              "      <td>Diaris</td>\n",
              "      <td>🔌 Espanya se suma a la coalició 'Accelerating ...</td>\n",
              "      <td>Zero emissions</td>\n",
              "      <td>0</td>\n",
              "      <td>0</td>\n",
              "    </tr>\n",
              "    <tr>\n",
              "      <th>5</th>\n",
              "      <td>2022-11-17 13:57:34+00:00</td>\n",
              "      <td>Diaris</td>\n",
              "      <td>🔌 Espanya se suma a la coalició 'Accelerating ...</td>\n",
              "      <td>Zero emissions</td>\n",
              "      <td>1</td>\n",
              "      <td>1</td>\n",
              "    </tr>\n",
              "    <tr>\n",
              "      <th>6</th>\n",
              "      <td>2022-11-17 10:03:59+00:00</td>\n",
              "      <td>Diaris</td>\n",
              "      <td>🔌 Espanya se suma a la coalició 'Accelerating ...</td>\n",
              "      <td>Zero emissions</td>\n",
              "      <td>0</td>\n",
              "      <td>2</td>\n",
              "    </tr>\n",
              "    <tr>\n",
              "      <th>7</th>\n",
              "      <td>2022-11-17 06:32:32+00:00</td>\n",
              "      <td>Diaris</td>\n",
              "      <td>Espanya se suma a la coalició 'Accelerating to...</td>\n",
              "      <td>Zero emissions</td>\n",
              "      <td>0</td>\n",
              "      <td>2</td>\n",
              "    </tr>\n",
              "    <tr>\n",
              "      <th>8</th>\n",
              "      <td>2022-10-28 10:30:01+00:00</td>\n",
              "      <td>Diaris</td>\n",
              "      <td>La indústria europea d'automòbils insta els re...</td>\n",
              "      <td>Zero emissions</td>\n",
              "      <td>1</td>\n",
              "      <td>2</td>\n",
              "    </tr>\n",
              "    <tr>\n",
              "      <th>9</th>\n",
              "      <td>2022-09-09 03:30:30+00:00</td>\n",
              "      <td>Diaris</td>\n",
              "      <td>L'empresa especialitzada en mobles, reformes i...</td>\n",
              "      <td>Zero emissions</td>\n",
              "      <td>0</td>\n",
              "      <td>0</td>\n",
              "    </tr>\n",
              "  </tbody>\n",
              "</table>\n",
              "</div>\n",
              "      <button class=\"colab-df-convert\" onclick=\"convertToInteractive('df-13919d18-e570-4dc1-930a-e862c074fa73')\"\n",
              "              title=\"Convert this dataframe to an interactive table.\"\n",
              "              style=\"display:none;\">\n",
              "        \n",
              "  <svg xmlns=\"http://www.w3.org/2000/svg\" height=\"24px\"viewBox=\"0 0 24 24\"\n",
              "       width=\"24px\">\n",
              "    <path d=\"M0 0h24v24H0V0z\" fill=\"none\"/>\n",
              "    <path d=\"M18.56 5.44l.94 2.06.94-2.06 2.06-.94-2.06-.94-.94-2.06-.94 2.06-2.06.94zm-11 1L8.5 8.5l.94-2.06 2.06-.94-2.06-.94L8.5 2.5l-.94 2.06-2.06.94zm10 10l.94 2.06.94-2.06 2.06-.94-2.06-.94-.94-2.06-.94 2.06-2.06.94z\"/><path d=\"M17.41 7.96l-1.37-1.37c-.4-.4-.92-.59-1.43-.59-.52 0-1.04.2-1.43.59L10.3 9.45l-7.72 7.72c-.78.78-.78 2.05 0 2.83L4 21.41c.39.39.9.59 1.41.59.51 0 1.02-.2 1.41-.59l7.78-7.78 2.81-2.81c.8-.78.8-2.07 0-2.86zM5.41 20L4 18.59l7.72-7.72 1.47 1.35L5.41 20z\"/>\n",
              "  </svg>\n",
              "      </button>\n",
              "      \n",
              "  <style>\n",
              "    .colab-df-container {\n",
              "      display:flex;\n",
              "      flex-wrap:wrap;\n",
              "      gap: 12px;\n",
              "    }\n",
              "\n",
              "    .colab-df-convert {\n",
              "      background-color: #E8F0FE;\n",
              "      border: none;\n",
              "      border-radius: 50%;\n",
              "      cursor: pointer;\n",
              "      display: none;\n",
              "      fill: #1967D2;\n",
              "      height: 32px;\n",
              "      padding: 0 0 0 0;\n",
              "      width: 32px;\n",
              "    }\n",
              "\n",
              "    .colab-df-convert:hover {\n",
              "      background-color: #E2EBFA;\n",
              "      box-shadow: 0px 1px 2px rgba(60, 64, 67, 0.3), 0px 1px 3px 1px rgba(60, 64, 67, 0.15);\n",
              "      fill: #174EA6;\n",
              "    }\n",
              "\n",
              "    [theme=dark] .colab-df-convert {\n",
              "      background-color: #3B4455;\n",
              "      fill: #D2E3FC;\n",
              "    }\n",
              "\n",
              "    [theme=dark] .colab-df-convert:hover {\n",
              "      background-color: #434B5C;\n",
              "      box-shadow: 0px 1px 3px 1px rgba(0, 0, 0, 0.15);\n",
              "      filter: drop-shadow(0px 1px 2px rgba(0, 0, 0, 0.3));\n",
              "      fill: #FFFFFF;\n",
              "    }\n",
              "  </style>\n",
              "\n",
              "      <script>\n",
              "        const buttonEl =\n",
              "          document.querySelector('#df-13919d18-e570-4dc1-930a-e862c074fa73 button.colab-df-convert');\n",
              "        buttonEl.style.display =\n",
              "          google.colab.kernel.accessAllowed ? 'block' : 'none';\n",
              "\n",
              "        async function convertToInteractive(key) {\n",
              "          const element = document.querySelector('#df-13919d18-e570-4dc1-930a-e862c074fa73');\n",
              "          const dataTable =\n",
              "            await google.colab.kernel.invokeFunction('convertToInteractive',\n",
              "                                                     [key], {});\n",
              "          if (!dataTable) return;\n",
              "\n",
              "          const docLinkHtml = 'Like what you see? Visit the ' +\n",
              "            '<a target=\"_blank\" href=https://colab.research.google.com/notebooks/data_table.ipynb>data table notebook</a>'\n",
              "            + ' to learn more about interactive tables.';\n",
              "          element.innerHTML = '';\n",
              "          dataTable['output_type'] = 'display_data';\n",
              "          await google.colab.output.renderOutput(dataTable, element);\n",
              "          const docLink = document.createElement('div');\n",
              "          docLink.innerHTML = docLinkHtml;\n",
              "          element.appendChild(docLink);\n",
              "        }\n",
              "      </script>\n",
              "    </div>\n",
              "  </div>\n",
              "  "
            ]
          },
          "metadata": {},
          "execution_count": 10
        }
      ]
    },
    {
      "cell_type": "code",
      "execution_count": null,
      "metadata": {
        "colab": {
          "base_uri": "https://localhost:8080/"
        },
        "id": "rrklgHT-Zhl-",
        "outputId": "7e7df541-0464-4fbd-87a0-55cf5de25b3a"
      },
      "outputs": [
        {
          "output_type": "stream",
          "name": "stdout",
          "text": [
            "Minimització de residus\n"
          ]
        },
        {
          "output_type": "stream",
          "name": "stderr",
          "text": [
            "<ipython-input-5-07c1e4f90af0>:7: DeprecatedFeatureWarning: content is deprecated, use rawContent instead\n",
            "  ALL_tweets.append([tweet.date,tweet.user.username,tweet.content,paraula,tweet.coordinates])\n"
          ]
        },
        {
          "output_type": "stream",
          "name": "stdout",
          "text": [
            "Producció neta\n",
            "Zero emissions\n",
            "Economia verda\n",
            "Triple balanç\n",
            "Avaluació del Cicle de Vida\n",
            "Reciclatge\n"
          ]
        },
        {
          "output_type": "stream",
          "name": "stderr",
          "text": [
            "WARNING:snscrape.modules.twitter:Could not translate t.co card URL on tweet 686819895963725824\n"
          ]
        },
        {
          "output_type": "stream",
          "name": "stdout",
          "text": [
            "\"Consum sostenible\" OR \"consum que és sostenible\"\n",
            "\"decreixement\" OR \"Creixement zero\" OR \"zero creixement\"\n",
            "Responsabilitat Social CorporativaEconomia blava\n",
            "Creació de valor compartit\n",
            "Ecologia industrial\n",
            "Economia col·laborativa\n",
            "Economia circular\n",
            "\n",
            "\n",
            " DADES DELS ULTIMS 133689 TWITS COMPLINT LES CONDICIONS\n"
          ]
        }
      ],
      "source": [
        "ALL_tweets = []\n",
        "\n",
        "lang = ' lang:ca'\n",
        "\n",
        "for paraula in Paraules:\n",
        "    # print(paraula)  \n",
        "    query= '('+paraula+')' + Data_inici +lang\n",
        "\n",
        "    for tweet in sntwitter.TwitterSearchScraper(query).get_items():\n",
        "        ALL_tweets.append([tweet.date,tweet.user.username,tweet.content,paraula,tweet.coordinates,tweet.retweetCount, tweet.likeCount ])\n",
        "        \n",
        "print('\\n\\n DADES DELS ULTIMS {} TWITS COMPLINT LES CONDICIONS'.format(len(ALL_tweets)))"
      ]
    },
    {
      "cell_type": "code",
      "execution_count": null,
      "metadata": {
        "id": "vbBT7VxBmljC"
      },
      "outputs": [],
      "source": [
        "T_All = pd.DataFrame(ALL_tweets,columns=['Date','User','Tweet','Paraula','Coords','Retweets','Likes'])"
      ]
    },
    {
      "cell_type": "code",
      "execution_count": 11,
      "metadata": {
        "colab": {
          "base_uri": "https://localhost:8080/",
          "height": 17
        },
        "id": "_HB6KZ2sm1Bw",
        "outputId": "03608147-1021-4055-f988-d8d0858019ac"
      },
      "outputs": [
        {
          "output_type": "display_data",
          "data": {
            "text/plain": [
              "<IPython.core.display.Javascript object>"
            ],
            "application/javascript": [
              "\n",
              "    async function download(id, filename, size) {\n",
              "      if (!google.colab.kernel.accessAllowed) {\n",
              "        return;\n",
              "      }\n",
              "      const div = document.createElement('div');\n",
              "      const label = document.createElement('label');\n",
              "      label.textContent = `Downloading \"${filename}\": `;\n",
              "      div.appendChild(label);\n",
              "      const progress = document.createElement('progress');\n",
              "      progress.max = size;\n",
              "      div.appendChild(progress);\n",
              "      document.body.appendChild(div);\n",
              "\n",
              "      const buffers = [];\n",
              "      let downloaded = 0;\n",
              "\n",
              "      const channel = await google.colab.kernel.comms.open(id);\n",
              "      // Send a message to notify the kernel that we're ready.\n",
              "      channel.send({})\n",
              "\n",
              "      for await (const message of channel.messages) {\n",
              "        // Send a message to notify the kernel that we're ready.\n",
              "        channel.send({})\n",
              "        if (message.buffers) {\n",
              "          for (const buffer of message.buffers) {\n",
              "            buffers.push(buffer);\n",
              "            downloaded += buffer.byteLength;\n",
              "            progress.value = downloaded;\n",
              "          }\n",
              "        }\n",
              "      }\n",
              "      const blob = new Blob(buffers, {type: 'application/binary'});\n",
              "      const a = document.createElement('a');\n",
              "      a.href = window.URL.createObjectURL(blob);\n",
              "      a.download = filename;\n",
              "      div.appendChild(a);\n",
              "      a.click();\n",
              "      div.remove();\n",
              "    }\n",
              "  "
            ]
          },
          "metadata": {}
        },
        {
          "output_type": "display_data",
          "data": {
            "text/plain": [
              "<IPython.core.display.Javascript object>"
            ],
            "application/javascript": [
              "download(\"download_a68657a5-8bad-4615-8d1c-75dcaac79d20\", \"Tweets.csv\", 300047)"
            ]
          },
          "metadata": {}
        }
      ],
      "source": [
        "T.to_csv('Tweets.csv', encoding = 'utf-8-sig') \n",
        "files.download('Tweets.csv')\n",
        "\n",
        "T_All.to_csv('Tweets_All.csv', encoding = 'utf-8-sig') \n",
        "files.download('Tweets_All.csv')"
      ]
    },
    {
      "cell_type": "markdown",
      "metadata": {
        "id": "AqrpBDirn7Qw"
      },
      "source": [
        "Pujaré aquests documents al repositori github següent:\n",
        "\n",
        "https://github.com/AlbertRoca29/EconomiaCircular"
      ]
    }
  ],
  "metadata": {
    "accelerator": "GPU",
    "colab": {
      "provenance": [],
      "authorship_tag": "ABX9TyOCyTbKPt7dwlH7Te4OhXET"
    },
    "gpuClass": "standard",
    "kernelspec": {
      "display_name": "Python 3",
      "name": "python3"
    },
    "language_info": {
      "name": "python"
    }
  },
  "nbformat": 4,
  "nbformat_minor": 0
}