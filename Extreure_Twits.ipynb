{
  "nbformat": 4,
  "nbformat_minor": 0,
  "metadata": {
    "colab": {
      "provenance": [],
      "authorship_tag": "ABX9TyO+CEEAG+1n1gCl/aEHGUpl"
    },
    "kernelspec": {
      "name": "python3",
      "display_name": "Python 3"
    },
    "language_info": {
      "name": "python"
    },
    "accelerator": "GPU",
    "gpuClass": "standard"
  },
  "cells": [
    {
      "cell_type": "code",
      "execution_count": 3,
      "metadata": {
        "colab": {
          "base_uri": "https://localhost:8080/"
        },
        "id": "cn8UGyClVoBi",
        "outputId": "d58f905b-6231-4ccb-906d-b33d939a15ae"
      },
      "outputs": [
        {
          "output_type": "stream",
          "name": "stdout",
          "text": [
            "Looking in indexes: https://pypi.org/simple, https://us-python.pkg.dev/colab-wheels/public/simple/\n",
            "Collecting snscrape\n",
            "  Downloading snscrape-0.6.1.20230314-py3-none-any.whl (71 kB)\n",
            "\u001b[2K     \u001b[90m━━━━━━━━━━━━━━━━━━━━━━━━━━━━━━━━━━━━━━━━\u001b[0m \u001b[32m71.6/71.6 KB\u001b[0m \u001b[31m3.1 MB/s\u001b[0m eta \u001b[36m0:00:00\u001b[0m\n",
            "\u001b[?25hRequirement already satisfied: beautifulsoup4 in /usr/local/lib/python3.9/dist-packages (from snscrape) (4.11.2)\n",
            "Requirement already satisfied: filelock in /usr/local/lib/python3.9/dist-packages (from snscrape) (3.10.0)\n",
            "Requirement already satisfied: requests[socks] in /usr/local/lib/python3.9/dist-packages (from snscrape) (2.27.1)\n",
            "Requirement already satisfied: lxml in /usr/local/lib/python3.9/dist-packages (from snscrape) (4.9.2)\n",
            "Requirement already satisfied: soupsieve>1.2 in /usr/local/lib/python3.9/dist-packages (from beautifulsoup4->snscrape) (2.4)\n",
            "Requirement already satisfied: urllib3<1.27,>=1.21.1 in /usr/local/lib/python3.9/dist-packages (from requests[socks]->snscrape) (1.26.15)\n",
            "Requirement already satisfied: charset-normalizer~=2.0.0 in /usr/local/lib/python3.9/dist-packages (from requests[socks]->snscrape) (2.0.12)\n",
            "Requirement already satisfied: idna<4,>=2.5 in /usr/local/lib/python3.9/dist-packages (from requests[socks]->snscrape) (3.4)\n",
            "Requirement already satisfied: certifi>=2017.4.17 in /usr/local/lib/python3.9/dist-packages (from requests[socks]->snscrape) (2022.12.7)\n",
            "Requirement already satisfied: PySocks!=1.5.7,>=1.5.6 in /usr/local/lib/python3.9/dist-packages (from requests[socks]->snscrape) (1.7.1)\n",
            "Installing collected packages: snscrape\n",
            "Successfully installed snscrape-0.6.1.20230314\n"
          ]
        }
      ],
      "source": [
        "!pip install snscrape"
      ]
    },
    {
      "cell_type": "code",
      "source": [
        "import snscrape.modules.twitter as sntwitter\n",
        "import pandas as pd\n",
        "\n",
        "from google.colab import files"
      ],
      "metadata": {
        "id": "g2y2kMKUnLto"
      },
      "execution_count": null,
      "outputs": []
    },
    {
      "cell_type": "code",
      "source": [
        "# Paraules= '(\"Reciclatge\" OR \"Minimització de residus\" OR \"Producció neta\" OR \"Zero emissions\" OR \"Creixement zero\" OR \"decreixement\" OR \"Economia verda\" OR \"Triple balanç\" OR \"Avaluació del Cicle de Vida\" OR \"Consum sostenible\" OR \"Responsabilitat Social Corporativa\" OR \"RSC\" OR \"Economia blava\" OR \"Creació de valor compartit\" OR \"Ecologia industrial\" OR \"Economia col·laborativa\" OR \"Economia circular\")'\n",
        "Paraules= [\"Reciclatge\" , \"Minimització de residus\" , \"Producció neta\" ,\"Zero emissions\" ,  \n",
        "           \"Economia verda\" , \"Triple balanç\" ,\"Avaluació del Cicle de Vida\" , \n",
        "           '\"Consum sostenible\" OR \"consum que és sostenible\"', # [\"Consum sostenible\" ,\"sostenible\"], # sostenible sol ? \n",
        "           '\"decreixement\" OR \"Creixement zero\" OR \"zero creixement\"', # [\"decreixement\",\"Creixement zero\",\"zero creixement\"],\n",
        "           \"Responsabilitat Social Corporativa\"#'\"Responsabilitat Social Corporativa\" OR \"RSC\"', #, ## [\"Responsabilitat Social Corporativa\", \"RSC\"] , \n",
        "           \"Economia blava\" , \"Creació de valor compartit\" , \n",
        "           \"Ecologia industrial\" , \"Economia col·laborativa\" , \"Economia circular\"]\n",
        "\n",
        "\n",
        "Comptes=[\n",
        "    '(from:diariARA OR from:elnacionalcat OR from:VilaWeb OR from:324cat OR from:govern OR from:generalitat OR from:uabbarcelona  OR from:ccoocatalunya OR from:ugtcatalunya)',\n",
        "    '(from:CatalunyaRadio OR from:rac1 OR from:cgtcatalunya OR from:univgirona OR from:pimec OR from:gencat OR from:unibarcelona OR from:upfbarcelona OR from:la_upc)'\n",
        "]\n",
        "\n",
        "\n",
        "Data_inici='(since:2006-01-01)' "
      ],
      "metadata": {
        "id": "_jCt4LQqmjzc"
      },
      "execution_count": null,
      "outputs": []
    },
    {
      "cell_type": "code",
      "source": [
        "\n",
        "tweets = []\n",
        "t = time.time()\n",
        "for compte in Comptes:\n",
        "    for paraula in Paraules:\n",
        "        query= '('+paraula+')' + compte + Data_inici\n",
        "        for tweet in sntwitter.TwitterSearchScraper(query).get_items():\n",
        "            tweets.append([tweet.date,tweet.user.username,tweet.content,paraula])\n",
        "\n",
        "print('\\n\\n DADES DELS ULTIMS {} TWITS COMPLINT LES CONDICIONS'.format(len(tweets)))\n",
        "\n",
        "# print('Tweets extrets per segon {:g}'.format(1000/(time.time()-t)))\n",
        "# print('Tweets per dia natural',(1000/(tweets[0]['date']-tweets[-1]['date']).days))"
      ],
      "metadata": {
        "colab": {
          "base_uri": "https://localhost:8080/"
        },
        "id": "RAV0EVk9V-Wp",
        "outputId": "c2c4a79f-bdf5-48a5-81dc-6a7cd02875d1"
      },
      "execution_count": 80,
      "outputs": [
        {
          "output_type": "stream",
          "name": "stderr",
          "text": [
            "<ipython-input-80-728dc3045efb>:26: DeprecatedFeatureWarning: content is deprecated, use rawContent instead\n",
            "  tweets.append([tweet.date,tweet.user.username,tweet.content,paraula])\n"
          ]
        },
        {
          "output_type": "stream",
          "name": "stdout",
          "text": [
            "\n",
            "\n",
            " DADES DELS ULTIMS 818 TWITS COMPLINT LES CONDICIONS\n"
          ]
        }
      ]
    },
    {
      "cell_type": "code",
      "source": [
        "ALL_tweets = []\n",
        "t = time.time()\n",
        "for paraula in Paraules:\n",
        "    query= '('+paraula+')' + Data_inici +lang\n",
        "    for tweet in sntwitter.TwitterSearchScraper(query).get_items():\n",
        "        ALL_tweets.append([tweet.date,tweet.user.username,tweet.content,paraula])\n",
        "\n",
        "print('\\n\\n DADES DELS ULTIMS {} TWITS COMPLINT LES CONDICIONS'.format(len(ALL_tweets)))"
      ],
      "metadata": {
        "colab": {
          "base_uri": "https://localhost:8080/"
        },
        "id": "rrklgHT-Zhl-",
        "outputId": "79c19b3f-0cdc-4cbf-b06d-1d7209f36074"
      },
      "execution_count": 57,
      "outputs": [
        {
          "output_type": "stream",
          "name": "stderr",
          "text": [
            "<ipython-input-57-18baad11892e>:8: DeprecatedFeatureWarning: content is deprecated, use rawContent instead\n",
            "  ALL_tweets.append([tweet.date,tweet.user.username,tweet.content,paraula])\n",
            "WARNING:snscrape.modules.twitter:Could not translate t.co card URL on tweet 686819895963725824\n"
          ]
        },
        {
          "output_type": "stream",
          "name": "stdout",
          "text": [
            "\n",
            "\n",
            " DADES DELS ULTIMS 133636 TWITS COMPLINT LES CONDICIONS\n"
          ]
        }
      ]
    },
    {
      "cell_type": "code",
      "source": [
        "T = pd.DataFrame(tweets,columns=['Date','User','Tweet','Paraula'])\n",
        "T_All = pd.DataFrame(ALL_tweets,columns=['Date','User','Tweet','Paraula'])"
      ],
      "metadata": {
        "id": "vbBT7VxBmljC"
      },
      "execution_count": 83,
      "outputs": []
    },
    {
      "cell_type": "code",
      "source": [
        "T.to_csv('Tweets.csv', encoding = 'utf-8-sig') \n",
        "files.download('Tweets.csv')\n",
        "\n",
        "T_All.to_csv('Tweets_All.csv', encoding = 'utf-8-sig') \n",
        "files.download('Tweets_All.csv')"
      ],
      "metadata": {
        "colab": {
          "base_uri": "https://localhost:8080/",
          "height": 17
        },
        "id": "_HB6KZ2sm1Bw",
        "outputId": "8df59301-a41a-4c1d-8ee1-e2b6475a5a2f"
      },
      "execution_count": 84,
      "outputs": [
        {
          "output_type": "display_data",
          "data": {
            "text/plain": [
              "<IPython.core.display.Javascript object>"
            ],
            "application/javascript": [
              "\n",
              "    async function download(id, filename, size) {\n",
              "      if (!google.colab.kernel.accessAllowed) {\n",
              "        return;\n",
              "      }\n",
              "      const div = document.createElement('div');\n",
              "      const label = document.createElement('label');\n",
              "      label.textContent = `Downloading \"${filename}\": `;\n",
              "      div.appendChild(label);\n",
              "      const progress = document.createElement('progress');\n",
              "      progress.max = size;\n",
              "      div.appendChild(progress);\n",
              "      document.body.appendChild(div);\n",
              "\n",
              "      const buffers = [];\n",
              "      let downloaded = 0;\n",
              "\n",
              "      const channel = await google.colab.kernel.comms.open(id);\n",
              "      // Send a message to notify the kernel that we're ready.\n",
              "      channel.send({})\n",
              "\n",
              "      for await (const message of channel.messages) {\n",
              "        // Send a message to notify the kernel that we're ready.\n",
              "        channel.send({})\n",
              "        if (message.buffers) {\n",
              "          for (const buffer of message.buffers) {\n",
              "            buffers.push(buffer);\n",
              "            downloaded += buffer.byteLength;\n",
              "            progress.value = downloaded;\n",
              "          }\n",
              "        }\n",
              "      }\n",
              "      const blob = new Blob(buffers, {type: 'application/binary'});\n",
              "      const a = document.createElement('a');\n",
              "      a.href = window.URL.createObjectURL(blob);\n",
              "      a.download = filename;\n",
              "      div.appendChild(a);\n",
              "      a.click();\n",
              "      div.remove();\n",
              "    }\n",
              "  "
            ]
          },
          "metadata": {}
        },
        {
          "output_type": "display_data",
          "data": {
            "text/plain": [
              "<IPython.core.display.Javascript object>"
            ],
            "application/javascript": [
              "download(\"download_b81ad4b9-5a0f-48ff-a109-61c88276c8d8\", \"Tweets.csv\", 197893)"
            ]
          },
          "metadata": {}
        },
        {
          "output_type": "display_data",
          "data": {
            "text/plain": [
              "<IPython.core.display.Javascript object>"
            ],
            "application/javascript": [
              "\n",
              "    async function download(id, filename, size) {\n",
              "      if (!google.colab.kernel.accessAllowed) {\n",
              "        return;\n",
              "      }\n",
              "      const div = document.createElement('div');\n",
              "      const label = document.createElement('label');\n",
              "      label.textContent = `Downloading \"${filename}\": `;\n",
              "      div.appendChild(label);\n",
              "      const progress = document.createElement('progress');\n",
              "      progress.max = size;\n",
              "      div.appendChild(progress);\n",
              "      document.body.appendChild(div);\n",
              "\n",
              "      const buffers = [];\n",
              "      let downloaded = 0;\n",
              "\n",
              "      const channel = await google.colab.kernel.comms.open(id);\n",
              "      // Send a message to notify the kernel that we're ready.\n",
              "      channel.send({})\n",
              "\n",
              "      for await (const message of channel.messages) {\n",
              "        // Send a message to notify the kernel that we're ready.\n",
              "        channel.send({})\n",
              "        if (message.buffers) {\n",
              "          for (const buffer of message.buffers) {\n",
              "            buffers.push(buffer);\n",
              "            downloaded += buffer.byteLength;\n",
              "            progress.value = downloaded;\n",
              "          }\n",
              "        }\n",
              "      }\n",
              "      const blob = new Blob(buffers, {type: 'application/binary'});\n",
              "      const a = document.createElement('a');\n",
              "      a.href = window.URL.createObjectURL(blob);\n",
              "      a.download = filename;\n",
              "      div.appendChild(a);\n",
              "      a.click();\n",
              "      div.remove();\n",
              "    }\n",
              "  "
            ]
          },
          "metadata": {}
        },
        {
          "output_type": "display_data",
          "data": {
            "text/plain": [
              "<IPython.core.display.Javascript object>"
            ],
            "application/javascript": [
              "download(\"download_a1a763a3-ba75-4a45-b4aa-d16bcfb2e996\", \"Tweets_All.csv\", 34749036)"
            ]
          },
          "metadata": {}
        }
      ]
    },
    {
      "cell_type": "markdown",
      "source": [
        "Pujaré aquests documents al repositori github següent:\n",
        "\n",
        "https://github.com/AlbertRoca29/EconomiaCircular"
      ],
      "metadata": {
        "id": "AqrpBDirn7Qw"
      }
    }
  ]
}