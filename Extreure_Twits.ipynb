{
  "cells": [
    {
      "cell_type": "code",
      "execution_count": 1,
      "metadata": {
        "colab": {
          "base_uri": "https://localhost:8080/"
        },
        "id": "cn8UGyClVoBi",
        "outputId": "25269a22-1cf1-4548-d7ca-e39902cbfd19"
      },
      "outputs": [
        {
          "output_type": "stream",
          "name": "stdout",
          "text": [
            "Looking in indexes: https://pypi.org/simple, https://us-python.pkg.dev/colab-wheels/public/simple/\n",
            "Collecting snscrape\n",
            "  Downloading snscrape-0.6.1.20230314-py3-none-any.whl (71 kB)\n",
            "\u001b[2K     \u001b[90m━━━━━━━━━━━━━━━━━━━━━━━━━━━━━━━━━━━━━━━━\u001b[0m \u001b[32m71.6/71.6 KB\u001b[0m \u001b[31m2.5 MB/s\u001b[0m eta \u001b[36m0:00:00\u001b[0m\n",
            "\u001b[?25hRequirement already satisfied: beautifulsoup4 in /usr/local/lib/python3.9/dist-packages (from snscrape) (4.11.2)\n",
            "Requirement already satisfied: requests[socks] in /usr/local/lib/python3.9/dist-packages (from snscrape) (2.27.1)\n",
            "Requirement already satisfied: filelock in /usr/local/lib/python3.9/dist-packages (from snscrape) (3.10.0)\n",
            "Requirement already satisfied: lxml in /usr/local/lib/python3.9/dist-packages (from snscrape) (4.9.2)\n",
            "Requirement already satisfied: soupsieve>1.2 in /usr/local/lib/python3.9/dist-packages (from beautifulsoup4->snscrape) (2.4)\n",
            "Requirement already satisfied: charset-normalizer~=2.0.0 in /usr/local/lib/python3.9/dist-packages (from requests[socks]->snscrape) (2.0.12)\n",
            "Requirement already satisfied: idna<4,>=2.5 in /usr/local/lib/python3.9/dist-packages (from requests[socks]->snscrape) (3.4)\n",
            "Requirement already satisfied: urllib3<1.27,>=1.21.1 in /usr/local/lib/python3.9/dist-packages (from requests[socks]->snscrape) (1.26.15)\n",
            "Requirement already satisfied: certifi>=2017.4.17 in /usr/local/lib/python3.9/dist-packages (from requests[socks]->snscrape) (2022.12.7)\n",
            "Requirement already satisfied: PySocks!=1.5.7,>=1.5.6 in /usr/local/lib/python3.9/dist-packages (from requests[socks]->snscrape) (1.7.1)\n",
            "Installing collected packages: snscrape\n",
            "Successfully installed snscrape-0.6.1.20230314\n"
          ]
        }
      ],
      "source": [
        "!pip install snscrape"
      ]
    },
    {
      "cell_type": "code",
      "execution_count": 2,
      "metadata": {
        "id": "g2y2kMKUnLto"
      },
      "outputs": [],
      "source": [
        "import snscrape.modules.twitter as sntwitter\n",
        "import pandas as pd\n",
        "\n",
        "from google.colab import files"
      ]
    },
    {
      "cell_type": "code",
      "execution_count": 3,
      "metadata": {
        "id": "_jCt4LQqmjzc"
      },
      "outputs": [],
      "source": [
        "# Paraules= '(\"Reciclatge\" OR \"Minimització de residus\" OR \"Producció neta\" OR \"Zero emissions\" OR \"Creixement zero\" OR \"decreixement\" OR \"Economia verda\" OR \"Triple balanç\" OR \"Avaluació del Cicle de Vida\" OR \"Consum sostenible\" OR \"Responsabilitat Social Corporativa\" OR \"RSC\" OR \"Economia blava\" OR \"Creació de valor compartit\" OR \"Ecologia industrial\" OR \"Economia col·laborativa\" OR \"Economia circular\")'\n",
        "Paraules= [ \"Minimització de residus\",  \"Producció neta\" ,\"Zero emissions\" ,  \n",
        "           \"Economia verda\" , \"Triple balanç\" ,\"Avaluació del Cicle de Vida\" , \"Reciclatge\" ,\n",
        "           '\"Consum sostenible\" OR \"consum que és sostenible\"', # [\"Consum sostenible\" ,\"sostenible\"], # sostenible sol ? \n",
        "           '\"decreixement\" OR \"Creixement zero\" OR \"zero creixement\"', # [\"decreixement\",\"Creixement zero\",\"zero creixement\"],\n",
        "           \"Responsabilitat Social Corporativa\"#'\"Responsabilitat Social Corporativa\" OR \"RSC\"', #, ## [\"Responsabilitat Social Corporativa\", \"RSC\"] , \n",
        "           \"Economia blava\" , \"Creació de valor compartit\" , \n",
        "           \"Ecologia industrial\" , \"Economia col·laborativa\" , \"Economia circular\"]\n",
        "\n",
        "\n",
        "Comptes=[\n",
        "    '(from:diariARA OR from:elnacionalcat OR from:VilaWeb OR from:324cat OR from:govern OR from:generalitat OR from:uabbarcelona  OR from:ccoocatalunya OR from:ugtcatalunya)',\n",
        "    '(from:CatalunyaRadio OR from:rac1 OR from:cgtcatalunya OR from:univgirona OR from:pimec OR from:gencat OR from:unibarcelona OR from:upfbarcelona OR from:la_upc)'\n",
        "]\n",
        "\n",
        "\n",
        "Data_inici='(since:2006-01-01)' "
      ]
    },
    {
      "cell_type": "code",
      "execution_count": 4,
      "metadata": {
        "colab": {
          "base_uri": "https://localhost:8080/"
        },
        "id": "RAV0EVk9V-Wp",
        "outputId": "673a3a24-7db7-4930-f546-e4e0804a23d3"
      },
      "outputs": [
        {
          "output_type": "stream",
          "name": "stderr",
          "text": [
            "<ipython-input-4-777861718b10>:6: DeprecatedFeatureWarning: content is deprecated, use rawContent instead\n",
            "  tweets.append([tweet.date,tweet.user.username,tweet.content,paraula])\n"
          ]
        },
        {
          "output_type": "stream",
          "name": "stdout",
          "text": [
            "\n",
            "\n",
            " DADES DELS ULTIMS 886 TWITS COMPLINT LES CONDICIONS\n"
          ]
        }
      ],
      "source": [
        "tweets = []\n",
        "for compte in Comptes:\n",
        "    for paraula in Paraules:\n",
        "        query= '('+paraula+')' + compte + Data_inici\n",
        "        for tweet in sntwitter.TwitterSearchScraper(query).get_items():\n",
        "            tweets.append([tweet.date,tweet.user.username,tweet.content,paraula])\n",
        "\n",
        "print('\\n\\n DADES DELS ULTIMS {} TWITS COMPLINT LES CONDICIONS'.format(len(tweets)))"
      ]
    },
    {
      "cell_type": "code",
      "execution_count": 5,
      "metadata": {
        "colab": {
          "base_uri": "https://localhost:8080/"
        },
        "id": "rrklgHT-Zhl-",
        "outputId": "7e7df541-0464-4fbd-87a0-55cf5de25b3a"
      },
      "outputs": [
        {
          "output_type": "stream",
          "name": "stdout",
          "text": [
            "Minimització de residus\n"
          ]
        },
        {
          "output_type": "stream",
          "name": "stderr",
          "text": [
            "<ipython-input-5-07c1e4f90af0>:7: DeprecatedFeatureWarning: content is deprecated, use rawContent instead\n",
            "  ALL_tweets.append([tweet.date,tweet.user.username,tweet.content,paraula,tweet.coordinates])\n"
          ]
        },
        {
          "output_type": "stream",
          "name": "stdout",
          "text": [
            "Producció neta\n",
            "Zero emissions\n",
            "Economia verda\n",
            "Triple balanç\n",
            "Avaluació del Cicle de Vida\n",
            "Reciclatge\n"
          ]
        },
        {
          "output_type": "stream",
          "name": "stderr",
          "text": [
            "WARNING:snscrape.modules.twitter:Could not translate t.co card URL on tweet 686819895963725824\n"
          ]
        },
        {
          "output_type": "stream",
          "name": "stdout",
          "text": [
            "\"Consum sostenible\" OR \"consum que és sostenible\"\n",
            "\"decreixement\" OR \"Creixement zero\" OR \"zero creixement\"\n",
            "Responsabilitat Social CorporativaEconomia blava\n",
            "Creació de valor compartit\n",
            "Ecologia industrial\n",
            "Economia col·laborativa\n",
            "Economia circular\n",
            "\n",
            "\n",
            " DADES DELS ULTIMS 133689 TWITS COMPLINT LES CONDICIONS\n"
          ]
        }
      ],
      "source": [
        "ALL_tweets = []\n",
        "lang = ' lang:ca'\n",
        "for paraula in Paraules:\n",
        "    print(paraula)  \n",
        "    query= '('+paraula+')' + Data_inici +lang\n",
        "    for tweet in sntwitter.TwitterSearchScraper(query).get_items():\n",
        "        ALL_tweets.append([tweet.date,tweet.user.username,tweet.content,paraula,tweet.coordinates])\n",
        "        \n",
        "print('\\n\\n DADES DELS ULTIMS {} TWITS COMPLINT LES CONDICIONS'.format(len(ALL_tweets)))"
      ]
    },
    {
      "cell_type": "code",
      "execution_count": 8,
      "metadata": {
        "id": "vbBT7VxBmljC"
      },
      "outputs": [],
      "source": [
        "T = pd.DataFrame(tweets,columns=['Date','User','Tweet','Paraula'])\n",
        "T_All = pd.DataFrame(ALL_tweets,columns=['Date','User','Tweet','Paraula','Coords'])"
      ]
    },
    {
      "cell_type": "code",
      "execution_count": 9,
      "metadata": {
        "colab": {
          "base_uri": "https://localhost:8080/",
          "height": 17
        },
        "id": "_HB6KZ2sm1Bw",
        "outputId": "7563b886-d053-46aa-a773-59285eaa161f"
      },
      "outputs": [
        {
          "output_type": "display_data",
          "data": {
            "text/plain": [
              "<IPython.core.display.Javascript object>"
            ],
            "application/javascript": [
              "\n",
              "    async function download(id, filename, size) {\n",
              "      if (!google.colab.kernel.accessAllowed) {\n",
              "        return;\n",
              "      }\n",
              "      const div = document.createElement('div');\n",
              "      const label = document.createElement('label');\n",
              "      label.textContent = `Downloading \"${filename}\": `;\n",
              "      div.appendChild(label);\n",
              "      const progress = document.createElement('progress');\n",
              "      progress.max = size;\n",
              "      div.appendChild(progress);\n",
              "      document.body.appendChild(div);\n",
              "\n",
              "      const buffers = [];\n",
              "      let downloaded = 0;\n",
              "\n",
              "      const channel = await google.colab.kernel.comms.open(id);\n",
              "      // Send a message to notify the kernel that we're ready.\n",
              "      channel.send({})\n",
              "\n",
              "      for await (const message of channel.messages) {\n",
              "        // Send a message to notify the kernel that we're ready.\n",
              "        channel.send({})\n",
              "        if (message.buffers) {\n",
              "          for (const buffer of message.buffers) {\n",
              "            buffers.push(buffer);\n",
              "            downloaded += buffer.byteLength;\n",
              "            progress.value = downloaded;\n",
              "          }\n",
              "        }\n",
              "      }\n",
              "      const blob = new Blob(buffers, {type: 'application/binary'});\n",
              "      const a = document.createElement('a');\n",
              "      a.href = window.URL.createObjectURL(blob);\n",
              "      a.download = filename;\n",
              "      div.appendChild(a);\n",
              "      a.click();\n",
              "      div.remove();\n",
              "    }\n",
              "  "
            ]
          },
          "metadata": {}
        },
        {
          "output_type": "display_data",
          "data": {
            "text/plain": [
              "<IPython.core.display.Javascript object>"
            ],
            "application/javascript": [
              "download(\"download_45d828b9-c36e-41eb-9a1a-942c3e98d3f3\", \"Tweets.csv\", 213839)"
            ]
          },
          "metadata": {}
        },
        {
          "output_type": "display_data",
          "data": {
            "text/plain": [
              "<IPython.core.display.Javascript object>"
            ],
            "application/javascript": [
              "\n",
              "    async function download(id, filename, size) {\n",
              "      if (!google.colab.kernel.accessAllowed) {\n",
              "        return;\n",
              "      }\n",
              "      const div = document.createElement('div');\n",
              "      const label = document.createElement('label');\n",
              "      label.textContent = `Downloading \"${filename}\": `;\n",
              "      div.appendChild(label);\n",
              "      const progress = document.createElement('progress');\n",
              "      progress.max = size;\n",
              "      div.appendChild(progress);\n",
              "      document.body.appendChild(div);\n",
              "\n",
              "      const buffers = [];\n",
              "      let downloaded = 0;\n",
              "\n",
              "      const channel = await google.colab.kernel.comms.open(id);\n",
              "      // Send a message to notify the kernel that we're ready.\n",
              "      channel.send({})\n",
              "\n",
              "      for await (const message of channel.messages) {\n",
              "        // Send a message to notify the kernel that we're ready.\n",
              "        channel.send({})\n",
              "        if (message.buffers) {\n",
              "          for (const buffer of message.buffers) {\n",
              "            buffers.push(buffer);\n",
              "            downloaded += buffer.byteLength;\n",
              "            progress.value = downloaded;\n",
              "          }\n",
              "        }\n",
              "      }\n",
              "      const blob = new Blob(buffers, {type: 'application/binary'});\n",
              "      const a = document.createElement('a');\n",
              "      a.href = window.URL.createObjectURL(blob);\n",
              "      a.download = filename;\n",
              "      div.appendChild(a);\n",
              "      a.click();\n",
              "      div.remove();\n",
              "    }\n",
              "  "
            ]
          },
          "metadata": {}
        },
        {
          "output_type": "display_data",
          "data": {
            "text/plain": [
              "<IPython.core.display.Javascript object>"
            ],
            "application/javascript": [
              "download(\"download_f4a70fcd-5cfb-4178-8661-b75f2eb9e784\", \"Tweets_All.csv\", 35131891)"
            ]
          },
          "metadata": {}
        }
      ],
      "source": [
        "T.to_csv('Tweets.csv', encoding = 'utf-8-sig') \n",
        "files.download('Tweets.csv')\n",
        "\n",
        "T_All.to_csv('Tweets_All.csv', encoding = 'utf-8-sig') \n",
        "files.download('Tweets_All.csv')"
      ]
    },
    {
      "cell_type": "markdown",
      "metadata": {
        "id": "AqrpBDirn7Qw"
      },
      "source": [
        "Pujaré aquests documents al repositori github següent:\n",
        "\n",
        "https://github.com/AlbertRoca29/EconomiaCircular"
      ]
    }
  ],
  "metadata": {
    "accelerator": "GPU",
    "colab": {
      "provenance": [],
      "authorship_tag": "ABX9TyOlLStUQOkgogQA3rDRIg57"
    },
    "gpuClass": "standard",
    "kernelspec": {
      "display_name": "Python 3",
      "name": "python3"
    },
    "language_info": {
      "name": "python"
    }
  },
  "nbformat": 4,
  "nbformat_minor": 0
}